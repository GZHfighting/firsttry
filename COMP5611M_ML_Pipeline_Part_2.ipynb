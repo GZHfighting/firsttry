{
  "cells": [
    {
      "cell_type": "markdown",
      "metadata": {
        "id": "view-in-github",
        "colab_type": "text"
      },
      "source": [
        "<a href=\"https://colab.research.google.com/github/GZHfighting/firsttry/blob/main/COMP5611M_ML_Pipeline_Part_2.ipynb\" target=\"_parent\"><img src=\"https://colab.research.google.com/assets/colab-badge.svg\" alt=\"Open In Colab\"/></a>"
      ]
    },
    {
      "cell_type": "markdown",
      "metadata": {
        "id": "cA47iXJ6ziEf"
      },
      "source": [
        "<a rel=\"license\" href=\"http://creativecommons.org/licenses/by/4.0/\"><img alt=\"Creative Commons Licence\" style=\"border-width:0\" src=\"https://i.creativecommons.org/l/by/4.0/88x31.png\" /></a><br /><span xmlns:dct=\"http://purl.org/dc/terms/\" property=\"dct:title\">COMP5611M - Building a Machine Learning Pipeline (part 2)</span> by <span xmlns:cc=\"http://creativecommons.org/ns#\" property=\"cc:attributionName\">Marc de Kamps and University of Leeds</span> is licensed under a <a rel=\"license\" href=\"http://creativecommons.org/licenses/by/4.0/\">Creative Commons Attribution 4.0 International License</a>."
      ]
    },
    {
      "cell_type": "markdown",
      "metadata": {
        "id": "nB4QxALIziEj"
      },
      "source": [
        "## Building a machine learning (part 2)\n",
        "\n",
        "### Objectives\n",
        "\n",
        "We will clean the data, in particular, we will\n",
        "- Impute missing values\n",
        "- Replace alpha-numeric information by one-hot-encoded vectors to arrive at a purely numerical implementation\n",
        "- Add features to the dataset that are likely to boost prediction power\n",
        "- We will use Transformer and Pipeline objects to provide self-documenting implementations of these steps\n",
        "\n",
        "### Caveat\n",
        "\n",
        "There is one small error in this notebook that we will leave in place, but have removed in (Part 3). Once you have run (Part 3), see if you can discover it.\n",
        "**Warning** Use Part 3 as a basis for further coding, not this notebook (part 2)."
      ]
    },
    {
      "cell_type": "markdown",
      "metadata": {
        "id": "YS-2PRoDziEk"
      },
      "source": [
        "We start where we left off in the previous notebook:"
      ]
    },
    {
      "cell_type": "code",
      "execution_count": null,
      "metadata": {
        "id": "7XwWqczkziEk",
        "outputId": "f68a6255-b7ba-414c-818a-11615eb82759",
        "colab": {
          "base_uri": "https://localhost:8080/"
        }
      },
      "outputs": [
        {
          "output_type": "stream",
          "name": "stdout",
          "text": [
            "Drive already mounted at /content/drive; to attempt to forcibly remount, call drive.mount(\"/content/drive\", force_remount=True).\n"
          ]
        }
      ],
      "source": [
        "import os\n",
        "import numpy as np\n",
        "import pandas as pd\n",
        "import tarfile\n",
        "\n",
        "from sklearn.model_selection import StratifiedShuffleSplit\n",
        "from google.colab import drive\n",
        "\n",
        "drive.mount('/content/drive')\n",
        "root_dir = '/content/drive/MyDrive/COMP5611M/'\n",
        "local_path = root_dir + 'datasets/housing'\n",
        "\n",
        "\n",
        "def restore():\n",
        "    housing_tgz=tarfile.open(os.path.join(local_path,'./housing.tgz'))\n",
        "    housing_tgz.extractall(path=local_path)\n",
        "    housing_tgz.close()\n",
        "\n",
        "    csv_path=os.path.join(local_path,'./housing.csv')\n",
        "    housing = pd.read_csv(csv_path)\n",
        "\n",
        "    # create test training set with stratified sampling (see previous notebook)\n",
        "    housing[\"income_category\"]=np.ceil(housing[\"median_income\"]/1.5)\n",
        "    housing[\"income_category\"].where(housing[\"income_category\"] < 5, 5.0, inplace = True)\n",
        "\n",
        "    split = StratifiedShuffleSplit(n_splits=1, test_size=0.2,random_state=42)\n",
        "\n",
        "    for train_index, test_index in split.split(housing,housing[\"income_category\"]):\n",
        "        strat_train_set = housing.loc[train_index]\n",
        "        strat_test_set = housing.loc[test_index]\n",
        "\n",
        "    for set_ in (strat_train_set, strat_test_set):\n",
        "        set_.drop((\"income_category\"),axis=1,inplace=True)\n",
        "\n",
        "\n",
        "    housing.drop((\"income_category\"),axis=1,inplace=True)\n",
        "\n",
        "\n",
        "    return housing, strat_train_set, strat_test_set\n",
        "\n",
        "housing, strat_train_set, start_test_set = restore()"
      ]
    },
    {
      "cell_type": "markdown",
      "metadata": {
        "id": "6e2Ik0E3ziEm"
      },
      "source": [
        "## Missing data\n",
        "\n",
        "In many real world data sets there is missing data. Doctors forget to register the temperature at some days, sensors are sometimes faulty and produce no sensible output, etc. Pandas is a considerable step up from comma separated files in that they have an explicit representation for a missing value: *NaN*.\n",
        "\n",
        "In general, machine learning algorithms can't work with NaN, however and this means either removing data where NaN occurs or replacing them by a sensible default value, a process called *imputation*.\n",
        "\n",
        "Here you have three choices:\n",
        "-Drop districts where NaN occurs\n",
        "-Drop the entire attribute (i.e. remove the entire column where NaN occurs)\n",
        "-Impute\n",
        "\n",
        "Many imputation strategies are simple: they replace the missing value by the median (or sometimes mean) of the attribute. This is potentially dangerous: if the pattern of missingness is not random, but has systematic causes it may be wrong to use this strategy. More sophisticated strategies, that we will not consider here, consist of using for example a random forest or decision tree to try and predict the missing values.\n",
        "\n",
        "Pandas offers quick ways for implementing simple imputation:"
      ]
    },
    {
      "cell_type": "code",
      "execution_count": null,
      "metadata": {
        "id": "2vwqoTRHziEo",
        "outputId": "52ff5f92-e747-4873-8e18-3310c125d4da",
        "colab": {
          "base_uri": "https://localhost:8080/"
        }
      },
      "outputs": [
        {
          "output_type": "execute_result",
          "data": {
            "text/plain": [
              "0         129.0\n",
              "1        1106.0\n",
              "2         190.0\n",
              "3         235.0\n",
              "4         280.0\n",
              "          ...  \n",
              "20635     374.0\n",
              "20636     150.0\n",
              "20637     485.0\n",
              "20638     409.0\n",
              "20639     616.0\n",
              "Name: total_bedrooms, Length: 20640, dtype: float64"
            ]
          },
          "metadata": {},
          "execution_count": 123
        }
      ],
      "source": [
        "#housing.dropna(subset=[\"total_bedrooms\"]) # drop those districts for which the total_bedrooms value is missing\n",
        "#housing.drop(\"total_bedrooms\",axis=1) # drop the entire column\n",
        "\n",
        "# impute missing values by the median\n",
        "median=housing[\"total_bedrooms\"].median()\n",
        "housing[\"total_bedrooms\"].fillna(median)"
      ]
    },
    {
      "cell_type": "markdown",
      "metadata": {
        "id": "7aTNT948ziEo"
      },
      "source": [
        "*scikit-learn* itself also offers support for simple imputation strategies. And since this nicely dovetails with the use of pipelines, which is an important topic in this notebook, let's check it out."
      ]
    },
    {
      "cell_type": "code",
      "execution_count": null,
      "metadata": {
        "id": "xjaJqPmyziEp"
      },
      "outputs": [],
      "source": [
        "from sklearn.impute import SimpleImputer\n",
        "\n",
        "imputer=SimpleImputer(strategy=\"median\")"
      ]
    },
    {
      "cell_type": "markdown",
      "metadata": {
        "id": "F1DPx0_sziEq"
      },
      "source": [
        "It should be as simple as calling the fit method on the data frame. So:\n",
        "\n",
        "            imputer.fit(housing)\n",
        "\n",
        "You will find this will cause an exception to be thrown:"
      ]
    },
    {
      "cell_type": "code",
      "execution_count": null,
      "metadata": {
        "id": "7sS84lz4ziEq"
      },
      "outputs": [],
      "source": [
        "# imputer.fit(housing)"
      ]
    },
    {
      "cell_type": "markdown",
      "metadata": {
        "id": "kVIqlzMyziEr"
      },
      "source": [
        "**Exercise 1** Examine the data frame to see what causes this problem."
      ]
    },
    {
      "cell_type": "code",
      "execution_count": null,
      "metadata": {
        "id": "AHkDqDbaziEr",
        "outputId": "b3627d4b-b574-4be2-e8bf-73b6de14b688",
        "colab": {
          "base_uri": "https://localhost:8080/",
          "height": 206
        }
      },
      "outputs": [
        {
          "output_type": "execute_result",
          "data": {
            "text/plain": [
              "   longitude  latitude  housing_median_age  total_rooms  total_bedrooms  \\\n",
              "0    -122.23     37.88                41.0        880.0           129.0   \n",
              "1    -122.22     37.86                21.0       7099.0          1106.0   \n",
              "2    -122.24     37.85                52.0       1467.0           190.0   \n",
              "3    -122.25     37.85                52.0       1274.0           235.0   \n",
              "4    -122.25     37.85                52.0       1627.0           280.0   \n",
              "\n",
              "   population  households  median_income  median_house_value ocean_proximity  \n",
              "0       322.0       126.0         8.3252            452600.0        NEAR BAY  \n",
              "1      2401.0      1138.0         8.3014            358500.0        NEAR BAY  \n",
              "2       496.0       177.0         7.2574            352100.0        NEAR BAY  \n",
              "3       558.0       219.0         5.6431            341300.0        NEAR BAY  \n",
              "4       565.0       259.0         3.8462            342200.0        NEAR BAY  "
            ],
            "text/html": [
              "\n",
              "  <div id=\"df-f991ee2c-2ec8-4862-8743-945d8f0ad90c\">\n",
              "    <div class=\"colab-df-container\">\n",
              "      <div>\n",
              "<style scoped>\n",
              "    .dataframe tbody tr th:only-of-type {\n",
              "        vertical-align: middle;\n",
              "    }\n",
              "\n",
              "    .dataframe tbody tr th {\n",
              "        vertical-align: top;\n",
              "    }\n",
              "\n",
              "    .dataframe thead th {\n",
              "        text-align: right;\n",
              "    }\n",
              "</style>\n",
              "<table border=\"1\" class=\"dataframe\">\n",
              "  <thead>\n",
              "    <tr style=\"text-align: right;\">\n",
              "      <th></th>\n",
              "      <th>longitude</th>\n",
              "      <th>latitude</th>\n",
              "      <th>housing_median_age</th>\n",
              "      <th>total_rooms</th>\n",
              "      <th>total_bedrooms</th>\n",
              "      <th>population</th>\n",
              "      <th>households</th>\n",
              "      <th>median_income</th>\n",
              "      <th>median_house_value</th>\n",
              "      <th>ocean_proximity</th>\n",
              "    </tr>\n",
              "  </thead>\n",
              "  <tbody>\n",
              "    <tr>\n",
              "      <th>0</th>\n",
              "      <td>-122.23</td>\n",
              "      <td>37.88</td>\n",
              "      <td>41.0</td>\n",
              "      <td>880.0</td>\n",
              "      <td>129.0</td>\n",
              "      <td>322.0</td>\n",
              "      <td>126.0</td>\n",
              "      <td>8.3252</td>\n",
              "      <td>452600.0</td>\n",
              "      <td>NEAR BAY</td>\n",
              "    </tr>\n",
              "    <tr>\n",
              "      <th>1</th>\n",
              "      <td>-122.22</td>\n",
              "      <td>37.86</td>\n",
              "      <td>21.0</td>\n",
              "      <td>7099.0</td>\n",
              "      <td>1106.0</td>\n",
              "      <td>2401.0</td>\n",
              "      <td>1138.0</td>\n",
              "      <td>8.3014</td>\n",
              "      <td>358500.0</td>\n",
              "      <td>NEAR BAY</td>\n",
              "    </tr>\n",
              "    <tr>\n",
              "      <th>2</th>\n",
              "      <td>-122.24</td>\n",
              "      <td>37.85</td>\n",
              "      <td>52.0</td>\n",
              "      <td>1467.0</td>\n",
              "      <td>190.0</td>\n",
              "      <td>496.0</td>\n",
              "      <td>177.0</td>\n",
              "      <td>7.2574</td>\n",
              "      <td>352100.0</td>\n",
              "      <td>NEAR BAY</td>\n",
              "    </tr>\n",
              "    <tr>\n",
              "      <th>3</th>\n",
              "      <td>-122.25</td>\n",
              "      <td>37.85</td>\n",
              "      <td>52.0</td>\n",
              "      <td>1274.0</td>\n",
              "      <td>235.0</td>\n",
              "      <td>558.0</td>\n",
              "      <td>219.0</td>\n",
              "      <td>5.6431</td>\n",
              "      <td>341300.0</td>\n",
              "      <td>NEAR BAY</td>\n",
              "    </tr>\n",
              "    <tr>\n",
              "      <th>4</th>\n",
              "      <td>-122.25</td>\n",
              "      <td>37.85</td>\n",
              "      <td>52.0</td>\n",
              "      <td>1627.0</td>\n",
              "      <td>280.0</td>\n",
              "      <td>565.0</td>\n",
              "      <td>259.0</td>\n",
              "      <td>3.8462</td>\n",
              "      <td>342200.0</td>\n",
              "      <td>NEAR BAY</td>\n",
              "    </tr>\n",
              "  </tbody>\n",
              "</table>\n",
              "</div>\n",
              "      <button class=\"colab-df-convert\" onclick=\"convertToInteractive('df-f991ee2c-2ec8-4862-8743-945d8f0ad90c')\"\n",
              "              title=\"Convert this dataframe to an interactive table.\"\n",
              "              style=\"display:none;\">\n",
              "        \n",
              "  <svg xmlns=\"http://www.w3.org/2000/svg\" height=\"24px\"viewBox=\"0 0 24 24\"\n",
              "       width=\"24px\">\n",
              "    <path d=\"M0 0h24v24H0V0z\" fill=\"none\"/>\n",
              "    <path d=\"M18.56 5.44l.94 2.06.94-2.06 2.06-.94-2.06-.94-.94-2.06-.94 2.06-2.06.94zm-11 1L8.5 8.5l.94-2.06 2.06-.94-2.06-.94L8.5 2.5l-.94 2.06-2.06.94zm10 10l.94 2.06.94-2.06 2.06-.94-2.06-.94-.94-2.06-.94 2.06-2.06.94z\"/><path d=\"M17.41 7.96l-1.37-1.37c-.4-.4-.92-.59-1.43-.59-.52 0-1.04.2-1.43.59L10.3 9.45l-7.72 7.72c-.78.78-.78 2.05 0 2.83L4 21.41c.39.39.9.59 1.41.59.51 0 1.02-.2 1.41-.59l7.78-7.78 2.81-2.81c.8-.78.8-2.07 0-2.86zM5.41 20L4 18.59l7.72-7.72 1.47 1.35L5.41 20z\"/>\n",
              "  </svg>\n",
              "      </button>\n",
              "      \n",
              "  <style>\n",
              "    .colab-df-container {\n",
              "      display:flex;\n",
              "      flex-wrap:wrap;\n",
              "      gap: 12px;\n",
              "    }\n",
              "\n",
              "    .colab-df-convert {\n",
              "      background-color: #E8F0FE;\n",
              "      border: none;\n",
              "      border-radius: 50%;\n",
              "      cursor: pointer;\n",
              "      display: none;\n",
              "      fill: #1967D2;\n",
              "      height: 32px;\n",
              "      padding: 0 0 0 0;\n",
              "      width: 32px;\n",
              "    }\n",
              "\n",
              "    .colab-df-convert:hover {\n",
              "      background-color: #E2EBFA;\n",
              "      box-shadow: 0px 1px 2px rgba(60, 64, 67, 0.3), 0px 1px 3px 1px rgba(60, 64, 67, 0.15);\n",
              "      fill: #174EA6;\n",
              "    }\n",
              "\n",
              "    [theme=dark] .colab-df-convert {\n",
              "      background-color: #3B4455;\n",
              "      fill: #D2E3FC;\n",
              "    }\n",
              "\n",
              "    [theme=dark] .colab-df-convert:hover {\n",
              "      background-color: #434B5C;\n",
              "      box-shadow: 0px 1px 3px 1px rgba(0, 0, 0, 0.15);\n",
              "      filter: drop-shadow(0px 1px 2px rgba(0, 0, 0, 0.3));\n",
              "      fill: #FFFFFF;\n",
              "    }\n",
              "  </style>\n",
              "\n",
              "      <script>\n",
              "        const buttonEl =\n",
              "          document.querySelector('#df-f991ee2c-2ec8-4862-8743-945d8f0ad90c button.colab-df-convert');\n",
              "        buttonEl.style.display =\n",
              "          google.colab.kernel.accessAllowed ? 'block' : 'none';\n",
              "\n",
              "        async function convertToInteractive(key) {\n",
              "          const element = document.querySelector('#df-f991ee2c-2ec8-4862-8743-945d8f0ad90c');\n",
              "          const dataTable =\n",
              "            await google.colab.kernel.invokeFunction('convertToInteractive',\n",
              "                                                     [key], {});\n",
              "          if (!dataTable) return;\n",
              "\n",
              "          const docLinkHtml = 'Like what you see? Visit the ' +\n",
              "            '<a target=\"_blank\" href=https://colab.research.google.com/notebooks/data_table.ipynb>data table notebook</a>'\n",
              "            + ' to learn more about interactive tables.';\n",
              "          element.innerHTML = '';\n",
              "          dataTable['output_type'] = 'display_data';\n",
              "          await google.colab.output.renderOutput(dataTable, element);\n",
              "          const docLink = document.createElement('div');\n",
              "          docLink.innerHTML = docLinkHtml;\n",
              "          element.appendChild(docLink);\n",
              "        }\n",
              "      </script>\n",
              "    </div>\n",
              "  </div>\n",
              "  "
            ]
          },
          "metadata": {},
          "execution_count": 126
        }
      ],
      "source": [
        "#! Sample answer\n",
        "housing.head()\n",
        "\n",
        "# It is clear that ocean_proximity is a text attribute and that imputer tries to calculate a numerical value"
      ]
    },
    {
      "cell_type": "markdown",
      "metadata": {
        "id": "25DW-HUGziEr"
      },
      "source": [
        "**Exercise 2** The offending data itself does not need to be imputed. So it could be dropped, at least temporary, from the dataframe. Research how you can create a dataframe that doesn't contain the offending data, then fit the imputer to it. Once you have done this, print the\n",
        "\n",
        "                imputer.statistics_\n",
        "                \n",
        "member variable."
      ]
    },
    {
      "cell_type": "code",
      "execution_count": null,
      "metadata": {
        "id": "HGE8BF6DziEr",
        "outputId": "90058d48-86cb-4edd-e4d0-2162fb2964f4",
        "colab": {
          "base_uri": "https://localhost:8080/"
        }
      },
      "outputs": [
        {
          "output_type": "stream",
          "name": "stdout",
          "text": [
            "[-1.1849e+02  3.4260e+01  2.9000e+01  2.1270e+03  4.3500e+02  1.1660e+03\n",
            "  4.0900e+02  3.5348e+00  1.7970e+05]\n"
          ]
        }
      ],
      "source": [
        "#! Sample answer\n",
        "housing_num =housing.drop(\"ocean_proximity\",axis=1)\n",
        "imputer.fit(housing_num)\n",
        "print(imputer.statistics_)"
      ]
    },
    {
      "cell_type": "markdown",
      "metadata": {
        "id": "r1hDrjpmziEs"
      },
      "source": [
        "In the previous question, you should have created a new dataframe that doesn't contain the 'ocean_proximity' attribute. Let's assume this reduced dataframe is called *housing_num* which now is guaranteed to contain numerical data only.\n",
        "\n",
        "The fit method has not changed *housing_num* at all. It only has fed the data of the reduced dataframe to the imputer and allowed it to calculate median values for each of the columns. This is called *training* the imputer.\n",
        "Now the imputer must be used to actually clean up the data of the *housing_num* frame. This is done by calling the imputer's *transform* method on *housing_num*. **Before proceeding, please ensure you have created the reduced dataframe and called it housing_num or the notebook will crash.**"
      ]
    },
    {
      "cell_type": "code",
      "execution_count": null,
      "metadata": {
        "id": "vPJ2XrWmziEs"
      },
      "outputs": [],
      "source": [
        "X=imputer.transform(housing_num)"
      ]
    },
    {
      "cell_type": "markdown",
      "metadata": {
        "id": "WekNQe-9ziEs"
      },
      "source": [
        "**Exercise 3** Examine the form of the data represented by X."
      ]
    },
    {
      "cell_type": "code",
      "execution_count": null,
      "metadata": {
        "id": "dqzKX-RJziEs",
        "outputId": "5be2a21f-8ac4-4a77-9553-a9d3dcd24afa",
        "colab": {
          "base_uri": "https://localhost:8080/"
        }
      },
      "outputs": [
        {
          "output_type": "stream",
          "name": "stdout",
          "text": [
            "[[-1.2223e+02  3.7880e+01  4.1000e+01 ...  1.2600e+02  8.3252e+00\n",
            "   4.5260e+05]\n",
            " [-1.2222e+02  3.7860e+01  2.1000e+01 ...  1.1380e+03  8.3014e+00\n",
            "   3.5850e+05]\n",
            " [-1.2224e+02  3.7850e+01  5.2000e+01 ...  1.7700e+02  7.2574e+00\n",
            "   3.5210e+05]\n",
            " ...\n",
            " [-1.2122e+02  3.9430e+01  1.7000e+01 ...  4.3300e+02  1.7000e+00\n",
            "   9.2300e+04]\n",
            " [-1.2132e+02  3.9430e+01  1.8000e+01 ...  3.4900e+02  1.8672e+00\n",
            "   8.4700e+04]\n",
            " [-1.2124e+02  3.9370e+01  1.6000e+01 ...  5.3000e+02  2.3886e+00\n",
            "   8.9400e+04]]\n",
            "(20640, 9)\n"
          ]
        }
      ],
      "source": [
        "#! Sample answer\n",
        "print(X)\n",
        "print(X.shape)\n",
        "\n",
        "# So just one big numpy array, but without Nan!"
      ]
    },
    {
      "cell_type": "markdown",
      "metadata": {
        "id": "lzuhf1iNziEt"
      },
      "source": [
        "**Exercise 4** Convert X back into a dataframe with the original column names (minus *ocean_proximity*)"
      ]
    },
    {
      "cell_type": "code",
      "execution_count": null,
      "metadata": {
        "id": "oD91DW0YziEt",
        "outputId": "8e2bfe1f-b467-4e23-9615-d3c38bb0b3fb",
        "colab": {
          "base_uri": "https://localhost:8080/",
          "height": 206
        }
      },
      "outputs": [
        {
          "output_type": "execute_result",
          "data": {
            "text/plain": [
              "   longitude  latitude  housing_median_age  total_rooms  total_bedrooms  \\\n",
              "0    -122.23     37.88                41.0        880.0           129.0   \n",
              "1    -122.22     37.86                21.0       7099.0          1106.0   \n",
              "2    -122.24     37.85                52.0       1467.0           190.0   \n",
              "3    -122.25     37.85                52.0       1274.0           235.0   \n",
              "4    -122.25     37.85                52.0       1627.0           280.0   \n",
              "\n",
              "   population  households  median_income  median_house_value  \n",
              "0       322.0       126.0         8.3252            452600.0  \n",
              "1      2401.0      1138.0         8.3014            358500.0  \n",
              "2       496.0       177.0         7.2574            352100.0  \n",
              "3       558.0       219.0         5.6431            341300.0  \n",
              "4       565.0       259.0         3.8462            342200.0  "
            ],
            "text/html": [
              "\n",
              "  <div id=\"df-9e351db4-f1e7-40ad-b420-1b96fcb31250\">\n",
              "    <div class=\"colab-df-container\">\n",
              "      <div>\n",
              "<style scoped>\n",
              "    .dataframe tbody tr th:only-of-type {\n",
              "        vertical-align: middle;\n",
              "    }\n",
              "\n",
              "    .dataframe tbody tr th {\n",
              "        vertical-align: top;\n",
              "    }\n",
              "\n",
              "    .dataframe thead th {\n",
              "        text-align: right;\n",
              "    }\n",
              "</style>\n",
              "<table border=\"1\" class=\"dataframe\">\n",
              "  <thead>\n",
              "    <tr style=\"text-align: right;\">\n",
              "      <th></th>\n",
              "      <th>longitude</th>\n",
              "      <th>latitude</th>\n",
              "      <th>housing_median_age</th>\n",
              "      <th>total_rooms</th>\n",
              "      <th>total_bedrooms</th>\n",
              "      <th>population</th>\n",
              "      <th>households</th>\n",
              "      <th>median_income</th>\n",
              "      <th>median_house_value</th>\n",
              "    </tr>\n",
              "  </thead>\n",
              "  <tbody>\n",
              "    <tr>\n",
              "      <th>0</th>\n",
              "      <td>-122.23</td>\n",
              "      <td>37.88</td>\n",
              "      <td>41.0</td>\n",
              "      <td>880.0</td>\n",
              "      <td>129.0</td>\n",
              "      <td>322.0</td>\n",
              "      <td>126.0</td>\n",
              "      <td>8.3252</td>\n",
              "      <td>452600.0</td>\n",
              "    </tr>\n",
              "    <tr>\n",
              "      <th>1</th>\n",
              "      <td>-122.22</td>\n",
              "      <td>37.86</td>\n",
              "      <td>21.0</td>\n",
              "      <td>7099.0</td>\n",
              "      <td>1106.0</td>\n",
              "      <td>2401.0</td>\n",
              "      <td>1138.0</td>\n",
              "      <td>8.3014</td>\n",
              "      <td>358500.0</td>\n",
              "    </tr>\n",
              "    <tr>\n",
              "      <th>2</th>\n",
              "      <td>-122.24</td>\n",
              "      <td>37.85</td>\n",
              "      <td>52.0</td>\n",
              "      <td>1467.0</td>\n",
              "      <td>190.0</td>\n",
              "      <td>496.0</td>\n",
              "      <td>177.0</td>\n",
              "      <td>7.2574</td>\n",
              "      <td>352100.0</td>\n",
              "    </tr>\n",
              "    <tr>\n",
              "      <th>3</th>\n",
              "      <td>-122.25</td>\n",
              "      <td>37.85</td>\n",
              "      <td>52.0</td>\n",
              "      <td>1274.0</td>\n",
              "      <td>235.0</td>\n",
              "      <td>558.0</td>\n",
              "      <td>219.0</td>\n",
              "      <td>5.6431</td>\n",
              "      <td>341300.0</td>\n",
              "    </tr>\n",
              "    <tr>\n",
              "      <th>4</th>\n",
              "      <td>-122.25</td>\n",
              "      <td>37.85</td>\n",
              "      <td>52.0</td>\n",
              "      <td>1627.0</td>\n",
              "      <td>280.0</td>\n",
              "      <td>565.0</td>\n",
              "      <td>259.0</td>\n",
              "      <td>3.8462</td>\n",
              "      <td>342200.0</td>\n",
              "    </tr>\n",
              "  </tbody>\n",
              "</table>\n",
              "</div>\n",
              "      <button class=\"colab-df-convert\" onclick=\"convertToInteractive('df-9e351db4-f1e7-40ad-b420-1b96fcb31250')\"\n",
              "              title=\"Convert this dataframe to an interactive table.\"\n",
              "              style=\"display:none;\">\n",
              "        \n",
              "  <svg xmlns=\"http://www.w3.org/2000/svg\" height=\"24px\"viewBox=\"0 0 24 24\"\n",
              "       width=\"24px\">\n",
              "    <path d=\"M0 0h24v24H0V0z\" fill=\"none\"/>\n",
              "    <path d=\"M18.56 5.44l.94 2.06.94-2.06 2.06-.94-2.06-.94-.94-2.06-.94 2.06-2.06.94zm-11 1L8.5 8.5l.94-2.06 2.06-.94-2.06-.94L8.5 2.5l-.94 2.06-2.06.94zm10 10l.94 2.06.94-2.06 2.06-.94-2.06-.94-.94-2.06-.94 2.06-2.06.94z\"/><path d=\"M17.41 7.96l-1.37-1.37c-.4-.4-.92-.59-1.43-.59-.52 0-1.04.2-1.43.59L10.3 9.45l-7.72 7.72c-.78.78-.78 2.05 0 2.83L4 21.41c.39.39.9.59 1.41.59.51 0 1.02-.2 1.41-.59l7.78-7.78 2.81-2.81c.8-.78.8-2.07 0-2.86zM5.41 20L4 18.59l7.72-7.72 1.47 1.35L5.41 20z\"/>\n",
              "  </svg>\n",
              "      </button>\n",
              "      \n",
              "  <style>\n",
              "    .colab-df-container {\n",
              "      display:flex;\n",
              "      flex-wrap:wrap;\n",
              "      gap: 12px;\n",
              "    }\n",
              "\n",
              "    .colab-df-convert {\n",
              "      background-color: #E8F0FE;\n",
              "      border: none;\n",
              "      border-radius: 50%;\n",
              "      cursor: pointer;\n",
              "      display: none;\n",
              "      fill: #1967D2;\n",
              "      height: 32px;\n",
              "      padding: 0 0 0 0;\n",
              "      width: 32px;\n",
              "    }\n",
              "\n",
              "    .colab-df-convert:hover {\n",
              "      background-color: #E2EBFA;\n",
              "      box-shadow: 0px 1px 2px rgba(60, 64, 67, 0.3), 0px 1px 3px 1px rgba(60, 64, 67, 0.15);\n",
              "      fill: #174EA6;\n",
              "    }\n",
              "\n",
              "    [theme=dark] .colab-df-convert {\n",
              "      background-color: #3B4455;\n",
              "      fill: #D2E3FC;\n",
              "    }\n",
              "\n",
              "    [theme=dark] .colab-df-convert:hover {\n",
              "      background-color: #434B5C;\n",
              "      box-shadow: 0px 1px 3px 1px rgba(0, 0, 0, 0.15);\n",
              "      filter: drop-shadow(0px 1px 2px rgba(0, 0, 0, 0.3));\n",
              "      fill: #FFFFFF;\n",
              "    }\n",
              "  </style>\n",
              "\n",
              "      <script>\n",
              "        const buttonEl =\n",
              "          document.querySelector('#df-9e351db4-f1e7-40ad-b420-1b96fcb31250 button.colab-df-convert');\n",
              "        buttonEl.style.display =\n",
              "          google.colab.kernel.accessAllowed ? 'block' : 'none';\n",
              "\n",
              "        async function convertToInteractive(key) {\n",
              "          const element = document.querySelector('#df-9e351db4-f1e7-40ad-b420-1b96fcb31250');\n",
              "          const dataTable =\n",
              "            await google.colab.kernel.invokeFunction('convertToInteractive',\n",
              "                                                     [key], {});\n",
              "          if (!dataTable) return;\n",
              "\n",
              "          const docLinkHtml = 'Like what you see? Visit the ' +\n",
              "            '<a target=\"_blank\" href=https://colab.research.google.com/notebooks/data_table.ipynb>data table notebook</a>'\n",
              "            + ' to learn more about interactive tables.';\n",
              "          element.innerHTML = '';\n",
              "          dataTable['output_type'] = 'display_data';\n",
              "          await google.colab.output.renderOutput(dataTable, element);\n",
              "          const docLink = document.createElement('div');\n",
              "          docLink.innerHTML = docLinkHtml;\n",
              "          element.appendChild(docLink);\n",
              "        }\n",
              "      </script>\n",
              "    </div>\n",
              "  </div>\n",
              "  "
            ]
          },
          "metadata": {},
          "execution_count": 130
        }
      ],
      "source": [
        "#! Sample answer\n",
        "housing_tr = pd.DataFrame(X,columns=housing_num.columns)\n",
        "housing_tr.head()"
      ]
    },
    {
      "cell_type": "markdown",
      "metadata": {
        "id": "hy70WHaMziEt"
      },
      "source": [
        "### Text and Categorical Variables\n",
        "\n",
        "In general machine learning algorithms need numerical values to work and *scikit-learn* expects data in two dimensional numpy arrays (like X) in the previous example. It is therefore necessary to convert text which often indicates a categorical variable (like, '<1H OCEAN', 'INLAND', 'NEAR OCEAN' etc.) into numerical values. (An exception to this would be a project that tries to apply NLP to text fragments, but that is not the case here; the column\n",
        "*ocean_proximity* clearly contains categories). It would be possible to convert  them into numerical values as in '<1H OCEAN' = 0, 'INLAND' = 1, etc.. There is a potential problem with this as there is an impcit concept of nearness in this coding: 0 and 1 are closer together than 1 and 4, for example. If used in a clustering algorithm this nearness may be used without this being intended by the investigator. A one-hot encoding does not have this problem.\n",
        "\n",
        "A one-hot coding would code 5 categories as follows:\n",
        "(1,0,0,0,0)\n",
        "(0,1,0,0,0)\n",
        "   ...\n",
        "(0,0,0,0,1)\n",
        "\n",
        "There is no unintended concept of proximity in this coding and it is to be preferred for coding categorical variables numerically.\n",
        "\n",
        "Again *scikit-learn* offers a custom-made class for transforming textual categorical variables into one-hot encoded ones:"
      ]
    },
    {
      "cell_type": "code",
      "execution_count": null,
      "metadata": {
        "id": "KG3TXIHnziEt",
        "outputId": "a7ad44b5-296c-47d6-a4f6-17983e155b47",
        "colab": {
          "base_uri": "https://localhost:8080/"
        }
      },
      "outputs": [
        {
          "output_type": "stream",
          "name": "stdout",
          "text": [
            "[array(['<1H OCEAN', 'INLAND', 'ISLAND', 'NEAR BAY', 'NEAR OCEAN'],\n",
            "      dtype=object)]\n"
          ]
        }
      ],
      "source": [
        "from sklearn.preprocessing import OneHotEncoder\n",
        "enc=OneHotEncoder()\n",
        "enc.fit(housing[\"ocean_proximity\"].values.reshape(-1,1))\n",
        "print(enc.categories_)"
      ]
    },
    {
      "cell_type": "markdown",
      "metadata": {
        "id": "ipTaablpziEu"
      },
      "source": [
        "*reshape*  is necessary because a transformer (such as Imputer or OneHotEncoder) expects a 2D numpy array. **housing[\"ocean_proximity\"]** is a *pandas.Series*, hence the use of values. The -1 is a neat little syntactic trick to prevent having to know or calculate the length of the array."
      ]
    },
    {
      "cell_type": "code",
      "execution_count": null,
      "metadata": {
        "id": "eVRTyc3CziEu",
        "outputId": "0cd45bd1-24a3-4d41-ff3a-8ae45c35f388",
        "colab": {
          "base_uri": "https://localhost:8080/"
        }
      },
      "outputs": [
        {
          "output_type": "execute_result",
          "data": {
            "text/plain": [
              "array([[0., 0., 0., 1., 0.],\n",
              "       [0., 0., 0., 1., 0.],\n",
              "       [0., 0., 0., 1., 0.],\n",
              "       ...,\n",
              "       [0., 1., 0., 0., 0.],\n",
              "       [0., 1., 0., 0., 0.],\n",
              "       [0., 1., 0., 0., 0.]])"
            ]
          },
          "metadata": {},
          "execution_count": 132
        }
      ],
      "source": [
        "enc.transform(housing[\"ocean_proximity\"].values.reshape(-1,1)).toarray()"
      ]
    },
    {
      "cell_type": "markdown",
      "metadata": {
        "id": "f_1OsBvsziEu"
      },
      "source": [
        "## Transformers\n",
        "\n",
        "*Imputer* and *OneHotEncoder* are so-called **transformers**. Whenever you start to realise that you need to do a lot of repetitive processing, you should either use a tranformer or design one of your own, in case *scikit-learn*  doesn't have one that is necessary for your processing.\n",
        "\n",
        "You can design a class of your own that encapsulates your preprocessing code. All you need to do is provide functions:\n",
        "\n",
        "                fit()\n",
        "                transform()\n",
        "                fit_transform()\n",
        "                \n",
        "*fit_transform* simply first calls *fit* and then *transform*\n",
        "\n",
        "As an example, lets add some preprocessing that adds the number of rooms per house hold and optionally also\n",
        "the number of rooms per household. Earlier we have seen that the number rooms per house hold correlates quite strongly with the median house value and it may be a variable that we want to represent explicitly in the dataset, meaning that we have to transform it. Optionally, we may want the number of bedrooms per room to the dataset as well. We will make the transformer configurable so that later in your analysis pipeline you can investigate both options, simply by setting a binary flag, which then becomes a hyperparameter."
      ]
    },
    {
      "cell_type": "code",
      "execution_count": null,
      "metadata": {
        "id": "vj31TtQIziEu",
        "outputId": "52c4cce3-5fc9-4ce8-8dd0-a3dbc79b0086",
        "colab": {
          "base_uri": "https://localhost:8080/"
        }
      },
      "outputs": [
        {
          "output_type": "stream",
          "name": "stdout",
          "text": [
            "[[-122.23 37.88 41.0 ... 6.984126984126984 0.3659090909090909\n",
            "  0.14659090909090908]\n",
            " [-122.22 37.86 21.0 ... 6.238137082601054 0.3382166502324271\n",
            "  0.15579659106916466]\n",
            " [-122.24 37.85 52.0 ... 8.288135593220339 0.338104976141786\n",
            "  0.12951601908657123]\n",
            " ...\n",
            " [-121.22 39.43 17.0 ... 5.20554272517321 0.44676131322094054\n",
            "  0.21517302573203195]\n",
            " [-121.32 39.43 18.0 ... 5.329512893982808 0.39838709677419354\n",
            "  0.21989247311827956]\n",
            " [-121.24 39.37 16.0 ... 5.254716981132075 0.4980251346499102\n",
            "  0.22118491921005387]]\n"
          ]
        }
      ],
      "source": [
        "from sklearn.base import BaseEstimator\n",
        "\n",
        "class CombinedAttributesAdder(BaseEstimator):\n",
        "\n",
        "    def __init__(self, do_add_bedrooms_per_room = False):\n",
        "\n",
        "        # simply a binary variable per room\n",
        "        self.do_add_bedrooms_per_room = do_add_bedrooms_per_room\n",
        "\n",
        "        # These are the column indices of the respective columns. OK for illustration purposes.\n",
        "        # For more robust code you would want to extract these values from the DataFrame by name.\n",
        "        self.rooms_ix      = 3\n",
        "        self.bedrooms_ix   = 4\n",
        "        self.population_ix = 5\n",
        "        self.household_ix  = 6\n",
        "\n",
        "    def fit(self, X, y=None):\n",
        "        # We don't transform the target values here\n",
        "        return self\n",
        "\n",
        "    def transform(self, X, y=None):\n",
        "        rooms_per_household = X[:,self.rooms_ix]/X[:,self.household_ix]\n",
        "        population_per_household = X[:, self.population_ix]/ X[:,self.rooms_ix]\n",
        "        if self.do_add_bedrooms_per_room:\n",
        "            bedrooms_per_room = X[:,self.bedrooms_ix]/X[:,self.rooms_ix]\n",
        "            return np.c_[X,rooms_per_household, population_per_household,bedrooms_per_room]\n",
        "        else:\n",
        "            return np.c_[X, rooms_per_household, population_per_household]\n",
        "\n",
        "attr_adder=CombinedAttributesAdder(do_add_bedrooms_per_room=True)\n",
        "housing_extra_attribs=attr_adder.transform(housing.values)\n",
        "print(housing_extra_attribs)\n"
      ]
    },
    {
      "cell_type": "markdown",
      "metadata": {
        "id": "VMdDFhgqziEv"
      },
      "source": [
        "The extra attributes have now been added to the data, which are spit out as a 2D numpy array without further structure.  Ultimately, this is what you need if you want to do numerical processing and exactly what *scikit-learn* algorithms expect.\n",
        "\n",
        "The *np.c_* is a numpy shorthand for grouping vectors into matrices. There are many ways of achieving the same effect, some people prefer *hstack* , *vstack* constructions."
      ]
    },
    {
      "cell_type": "code",
      "execution_count": null,
      "metadata": {
        "id": "JYUvGZ2xziEv",
        "outputId": "70f88e9e-04ff-41b7-903f-71f3a47c5be5",
        "colab": {
          "base_uri": "https://localhost:8080/"
        }
      },
      "outputs": [
        {
          "output_type": "stream",
          "name": "stdout",
          "text": [
            "[[1 4]\n",
            " [2 5]\n",
            " [3 6]]\n",
            "[[1 4]\n",
            " [2 5]\n",
            " [3 6]]\n"
          ]
        }
      ],
      "source": [
        "a=np.array([1,2,3]).T\n",
        "b=np.array([4,5,6]).T\n",
        "print(np.c_[a,b])\n",
        "\n",
        "print(np.vstack([a,b]).T)"
      ]
    },
    {
      "cell_type": "markdown",
      "metadata": {
        "id": "nML93oThziEv"
      },
      "source": [
        "### Feature Scaling\n",
        "\n",
        "Most machine learning algorithms perform better if the numerical values of the attributes are of comparable magnitude. The total number of rooms varies between 0 and 39320, whereas income is between 0 and 15. Typically, the attributes - but not the target variable, here median house value - are rescaled. An exception are decision tree based methods where the data is taken as is.\n",
        "\n",
        "#### Min-max scaling (normalisation)\n",
        "\n",
        "The data are shifted and rescaled so that their minimum value corresponds to 0 and their maximum value corresponds to 1. *scikit-learn* provides the **MinMaxScaler** to achieve this. It can be recongured to other target ranges than $[0,1]$ where desired.\n",
        "\n",
        "#### Standardisation\n",
        "The mean is substracted of all data points and then divided by the variance so that a zero-mean unit variance distribution results.\n",
        "\n",
        "There are pros and cons to each of these methods. Some machine learning algorithms (neural networks) expect input values to be within a certain range, meaning that you have to use min-max scaling. But a single outlier can compress the other data points to heap up around 0, something that doesn't happen to the same extent in standardisation.\n",
        "\n",
        "*scikit-learn* provides the *StandardScalar* transformer to implement this method.\n",
        "\n"
      ]
    },
    {
      "cell_type": "markdown",
      "metadata": {
        "id": "2VubSe-MziEv"
      },
      "source": [
        "## Pipelines\n",
        "\n",
        "Pipelines group transformers sequentially and provide a single access point for running the entire preprocessing chain. The transformations we have discussed so far crop up almost in every machine learning analysis. Each transformation step is usually simple, and it may be that initially you have cobbled an ad hoc preprocessing step to get going with analysis. Such code tends to obscure your programmes. If you find yourself bored because you're constantly writing relatively simple proeprocessing steps, you're not using pipelines properly. The individual\n",
        "Transformers can be hidden in python modules that you can import. The Pipelines define a very short definition\n",
        "of the preprocessing steps and are almost self-documenting. An example."
      ]
    },
    {
      "cell_type": "code",
      "execution_count": null,
      "metadata": {
        "id": "_vLYuK9UziEw"
      },
      "outputs": [],
      "source": [
        "from sklearn.pipeline import Pipeline\n",
        "from sklearn.preprocessing import StandardScaler\n",
        "\n",
        "num_pipeline = Pipeline([\n",
        "    ('imputer',SimpleImputer(strategy=\"median\")),\n",
        "    ('attribs_adder',CombinedAttributesAdder()),\n",
        "    ('std_scaler',StandardScaler())\n",
        "])\n",
        "\n",
        "housing_num_tr = num_pipeline.fit_transform(housing_num)"
      ]
    },
    {
      "cell_type": "markdown",
      "metadata": {
        "id": "3ZLBeC40ziEw"
      },
      "source": [
        "This piece of code is very readable, moreover since imputing and scaling occur so often, similar pipelines can\n",
        "often be constructed for other analyses, and the indvidual components can be re-used with a minimum of new programming effors.\n",
        "\n",
        "The names are practical for documentation, but also allow named access to the elements of the pipeline in case they're needed downstream in the analysis:"
      ]
    },
    {
      "cell_type": "code",
      "execution_count": null,
      "metadata": {
        "id": "ZgpUkevnziEw",
        "outputId": "291672e1-331a-4ca5-d7f9-c5e46b765d13",
        "colab": {
          "base_uri": "https://localhost:8080/"
        }
      },
      "outputs": [
        {
          "output_type": "execute_result",
          "data": {
            "text/plain": [
              "SimpleImputer(strategy='median')"
            ]
          },
          "metadata": {},
          "execution_count": 136
        }
      ],
      "source": [
        "num_pipeline['imputer']"
      ]
    },
    {
      "cell_type": "markdown",
      "metadata": {
        "id": "e3DX8k3jziEw"
      },
      "source": [
        "When you call the pipeline *fit* method, it calls the *fit_transform* method of the elements of the pipeline in order. All but the last elements of the pipeline must be *transformers*, the last can be an *estimator* (an *estimator*) has *fit* method, but not necessarily a *transform* or *fit_transform* method. )."
      ]
    },
    {
      "cell_type": "markdown",
      "metadata": {
        "id": "DUjIhaLrziEw"
      },
      "source": [
        "### Combining Seperate Pipelines for Numerical and Categorical Values\n",
        "\n",
        "We have seen that we need to handle numerical and categorical values differently. This effectively boils down to the creation of two pipelines that each run on mutually exclusive columns. We would like to run these pipelines in parallel and combine their joint output in one 2D numpy array which contains the conversion of all attributes to sensible numerical values.\n",
        "\n",
        "To this end we will write a custom transformer that selects only certain columns of the dataset, and drops the other ones. We will use that transformer, called **DataFrameSelector** to create two parallel pipelines and then\n",
        "combined the two resulting datasets."
      ]
    },
    {
      "cell_type": "code",
      "execution_count": null,
      "metadata": {
        "id": "8b61X22KziEw"
      },
      "outputs": [],
      "source": [
        "class DataFrameSelector(BaseEstimator):\n",
        "\n",
        "    def __init__(self, attribute_names):\n",
        "        self.attribute_names= attribute_names\n",
        "\n",
        "    def fit(self,X, y = None):\n",
        "        return self\n",
        "\n",
        "    def transform(self, X):\n",
        "        return X[self.attribute_names].values\n"
      ]
    },
    {
      "cell_type": "markdown",
      "metadata": {
        "id": "8oeB6qw3ziEx"
      },
      "source": [
        "Note that although there appears to be no pandas code, this works because X is a panda DataFrame, which can take a list of column names and select the appropriate columns!\n",
        "\n",
        "The two pipelines can now be created as follows **from the training set**."
      ]
    },
    {
      "cell_type": "code",
      "execution_count": null,
      "metadata": {
        "id": "-hO9iUXEziEx",
        "colab": {
          "base_uri": "https://localhost:8080/"
        },
        "outputId": "9c0adfe5-e670-48a8-f781-8eaf6a1c6f83"
      },
      "outputs": [
        {
          "output_type": "stream",
          "name": "stdout",
          "text": [
            "['ocean_proximity']\n",
            "['longitude', 'latitude', 'housing_median_age', 'total_rooms', 'total_bedrooms', 'population', 'households', 'median_income', 'median_house_value']\n"
          ]
        }
      ],
      "source": [
        "num_attribs=list(housing) # using pandas to get the names of attributes in housing_num, which we made by dropping ocean_proximity\n",
        "num_attribs.remove(\"ocean_proximity\")\n",
        "cat_attribs=[\"ocean_proximity\"]\n",
        "\n",
        "num_pipeline= Pipeline([\n",
        "    ('selector', DataFrameSelector(num_attribs)),\n",
        "    ('imputer',SimpleImputer(strategy=\"median\")),\n",
        "    ('attribs_adder',CombinedAttributesAdder()),\n",
        "    ('std_scaler',StandardScaler())\n",
        "])\n",
        "print(cat_attribs)\n",
        "print(num_attribs)\n",
        "cat_pipeline = Pipeline([\n",
        "    ('selector',DataFrameSelector(cat_attribs)),\n",
        "    ('one hot',OneHotEncoder())\n",
        "])"
      ]
    },
    {
      "cell_type": "markdown",
      "metadata": {
        "id": "2L9HbM40ziEx"
      },
      "source": [
        "These pipelines can be run independently ('in parallel'). Their results now need to be combined. *scikit-learn* offers the **FeatureUnion** for this purpose."
      ]
    },
    {
      "cell_type": "code",
      "execution_count": null,
      "metadata": {
        "id": "QLjDmNawziEx"
      },
      "outputs": [],
      "source": [
        "from sklearn.pipeline import FeatureUnion\n",
        "\n",
        "full_pipeline = FeatureUnion(transformer_list=[\n",
        "    (\"num_pipeline\",num_pipeline),\n",
        "    (\"cat_pipeline\",cat_pipeline)\n",
        "])"
      ]
    },
    {
      "cell_type": "markdown",
      "metadata": {
        "id": "DlZ8a_xEziEx"
      },
      "source": [
        "The whole pipeline can now be run in one go on the original *housing* DataFrame."
      ]
    },
    {
      "cell_type": "code",
      "source": [
        "print(housing.head())\n"
      ],
      "metadata": {
        "colab": {
          "base_uri": "https://localhost:8080/"
        },
        "id": "RCQnJPpNS8iO",
        "outputId": "af1ce5b2-96c4-4e79-9da3-2de16bc975c9"
      },
      "execution_count": null,
      "outputs": [
        {
          "output_type": "stream",
          "name": "stdout",
          "text": [
            "   longitude  latitude  housing_median_age  total_rooms  total_bedrooms  \\\n",
            "0    -122.23     37.88                41.0        880.0           129.0   \n",
            "1    -122.22     37.86                21.0       7099.0          1106.0   \n",
            "2    -122.24     37.85                52.0       1467.0           190.0   \n",
            "3    -122.25     37.85                52.0       1274.0           235.0   \n",
            "4    -122.25     37.85                52.0       1627.0           280.0   \n",
            "\n",
            "   population  households  median_income  median_house_value ocean_proximity  \n",
            "0       322.0       126.0         8.3252            452600.0        NEAR BAY  \n",
            "1      2401.0      1138.0         8.3014            358500.0        NEAR BAY  \n",
            "2       496.0       177.0         7.2574            352100.0        NEAR BAY  \n",
            "3       558.0       219.0         5.6431            341300.0        NEAR BAY  \n",
            "4       565.0       259.0         3.8462            342200.0        NEAR BAY  \n"
          ]
        }
      ]
    },
    {
      "cell_type": "code",
      "execution_count": null,
      "metadata": {
        "id": "nogN5YE0ziEx",
        "outputId": "2db54fa1-77fb-4e92-cc22-d5584b58d8e3",
        "colab": {
          "base_uri": "https://localhost:8080/"
        }
      },
      "outputs": [
        {
          "output_type": "stream",
          "name": "stdout",
          "text": [
            "(20640, 16)\n",
            "12655     72100.0\n",
            "15502    279600.0\n",
            "2908      82700.0\n",
            "14053    112500.0\n",
            "20496    238300.0\n",
            "           ...   \n",
            "15174    268500.0\n",
            "12661     90400.0\n",
            "19263    140400.0\n",
            "19140    258100.0\n",
            "19773     62700.0\n",
            "Name: median_house_value, Length: 16512, dtype: float64\n",
            "  (0, 0)\t-1.3278352216308462\n",
            "  (0, 1)\t1.0525482830366848\n",
            "  (0, 2)\t0.9821426581785077\n",
            "  (0, 3)\t-0.8048190966246049\n",
            "  (0, 4)\t-0.9724764790070289\n",
            "  (0, 5)\t-0.9744285971768408\n",
            "  (0, 6)\t-0.9770328537634586\n",
            "  (0, 7)\t2.3447657583017163\n",
            "  (0, 8)\t2.129631481668038\n",
            "  (0, 9)\t0.6285594533305325\n",
            "  (0, 10)\t-0.08762704370782531\n",
            "  (0, 14)\t1.0\n",
            "  (1, 0)\t-1.3228439144608317\n",
            "  (1, 1)\t1.043184551645693\n",
            "  (1, 2)\t-0.6070189133741593\n",
            "  (1, 3)\t2.045890099248613\n",
            "  (1, 4)\t1.357143430032187\n",
            "  (1, 5)\t0.8614388682720688\n",
            "  (1, 6)\t1.6699610275640624\n",
            "  (1, 7)\t2.3322379635373314\n",
            "  (1, 8)\t1.314156136924335\n",
            "  (1, 9)\t0.32704135754480507\n",
            "  (1, 10)\t-0.0971931712397134\n",
            "  (1, 14)\t1.0\n",
            "  (2, 0)\t-1.3328265288008536\n",
            "  :\t:\n",
            "  (20637, 12)\t1.0\n",
            "  (20638, 0)\t-0.8736262691597478\n",
            "  (20638, 1)\t1.7782374658384243\n",
            "  (20638, 2)\t-0.8453931491070593\n",
            "  (20638, 3)\t-0.35559976683593253\n",
            "  (20638, 4)\t-0.3048269656692802\n",
            "  (20638, 5)\t-0.6044293340584699\n",
            "  (20638, 6)\t-0.3937525814946471\n",
            "  (20638, 7)\t-1.0545829218829477\n",
            "  (20638, 8)\t-1.058608468716747\n",
            "  (20638, 9)\t-0.04021111407260373\n",
            "  (20638, 10)\t-0.07640778175419059\n",
            "  (20638, 12)\t1.0\n",
            "  (20639, 0)\t-0.8336958117996527\n",
            "  (20639, 1)\t1.7501462716654528\n",
            "  (20639, 2)\t-1.004309306262326\n",
            "  (20639, 3)\t0.06840827403602866\n",
            "  (20639, 4)\t0.18875678169112686\n",
            "  (20639, 5)\t-0.03397700953706748\n",
            "  (20639, 6)\t0.079672213485868\n",
            "  (20639, 7)\t-0.7801294685152976\n",
            "  (20639, 8)\t-1.0178780317316736\n",
            "  (20639, 9)\t-0.07044251689612338\n",
            "  (20639, 10)\t-0.04198863508253544\n",
            "  (20639, 12)\t1.0\n"
          ]
        }
      ],
      "source": [
        "housing_labels=strat_train_set[\"median_house_value\"]\n",
        "# housing=strat_train_set.drop(\"median_house_value\",axis=1)\n",
        "# housing = strat_train_set\n",
        "# housing = housing.drop(\"median_house_value\",axis=1)\n",
        "housing_prepared = full_pipeline.fit_transform(housing)\n",
        "print(housing_prepared.shape)\n",
        "print(housing_labels)\n",
        "print(housing_prepared)"
      ]
    }
  ],
  "metadata": {
    "kernelspec": {
      "display_name": "Python 3",
      "language": "python",
      "name": "python3"
    },
    "language_info": {
      "codemirror_mode": {
        "name": "ipython",
        "version": 3
      },
      "file_extension": ".py",
      "mimetype": "text/x-python",
      "name": "python",
      "nbconvert_exporter": "python",
      "pygments_lexer": "ipython3",
      "version": "3.7.3"
    },
    "colab": {
      "provenance": [],
      "include_colab_link": true
    }
  },
  "nbformat": 4,
  "nbformat_minor": 0
}